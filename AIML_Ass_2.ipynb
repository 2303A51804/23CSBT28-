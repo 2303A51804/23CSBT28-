{
  "nbformat": 4,
  "nbformat_minor": 0,
  "metadata": {
    "colab": {
      "provenance": [],
      "authorship_tag": "ABX9TyP6s8fvOVEZB03VrfZGAQwI",
      "include_colab_link": true
    },
    "kernelspec": {
      "name": "python3",
      "display_name": "Python 3"
    },
    "language_info": {
      "name": "python"
    }
  },
  "cells": [
    {
      "cell_type": "markdown",
      "metadata": {
        "id": "view-in-github",
        "colab_type": "text"
      },
      "source": [
        "<a href=\"https://colab.research.google.com/github/2303A51804/23CSBT28-/blob/main/AIML_Ass_2.ipynb\" target=\"_parent\"><img src=\"https://colab.research.google.com/assets/colab-badge.svg\" alt=\"Open In Colab\"/></a>"
      ]
    },
    {
      "cell_type": "code",
      "execution_count": null,
      "metadata": {
        "id": "BRie7AQlwRbA"
      },
      "outputs": [],
      "source": []
    },
    {
      "cell_type": "code",
      "source": [
        "from queue import Queue\n",
        "graph ={0:[1,2,3],\n",
        "        1:[0,2],\n",
        "        2:[1,3,5],\n",
        "        3:[0,2,4],\n",
        "        4:[3,5,7],\n",
        "        5:[2,4,6,7],\n",
        "        6:[5,7],\n",
        "        7:[]}\n",
        "print(\"The adjacency List representing the graph is:\")\n",
        "print(graph)\n",
        "\n",
        "def bfs(graph,source):\n",
        "          Q=Queue()\n",
        "          visited_vertices=set()\n",
        "          Q.put(source)\n",
        "          visited_vertices.update({source})\n",
        "          while not Q.empty():\n",
        "            vertex = Q.get()\n",
        "            print(vertex,end=\"-->\")\n",
        "            for u in graph[vertex]:\n",
        "              if u not in visited_vertices:\n",
        "                Q.put(u)\n",
        "                visited_vertices.update({u})\n",
        "                print(\"BFS trsversal of graph with source 1 is:\")\n",
        "                bfs(graph ,1)\n",
        "\n"
      ],
      "metadata": {
        "colab": {
          "base_uri": "https://localhost:8080/"
        },
        "id": "43G19rlZwUeX",
        "outputId": "2eba78a7-ff4d-438d-e292-b9f63fb7ef8a"
      },
      "execution_count": null,
      "outputs": [
        {
          "output_type": "stream",
          "name": "stdout",
          "text": [
            "The adjacency List representing the graph is:\n",
            "{0: [1, 2, 3], 1: [0, 2], 2: [1, 3, 5], 3: [0, 2, 4], 4: [3, 5, 7], 5: [2, 4, 6, 7], 6: [5, 7], 7: []}\n"
          ]
        }
      ]
    },
    {
      "cell_type": "markdown",
      "source": [],
      "metadata": {
        "id": "J3n15YjZ02nO"
      }
    },
    {
      "cell_type": "code",
      "source": [
        "graph1 = {\n",
        "    'A':['B','C','G'],\n",
        "    'B':['A'],\n",
        "    'C':['A','D','F',],\n",
        "    'D':['A','C','E','H'],\n",
        "    'E':['D','H','F'],\n",
        "    'F':['C','E'],\n",
        "    'G':['A','D','H'],\n",
        "    'H':['D','E','G']\n",
        "}\n",
        "def dfs(graph, node , visited):\n",
        "  if node not in visited:\n",
        "    visited.append(node)\n",
        "    for k in graph[node]:\n",
        "      dfs(graph,k,visited)\n",
        "  return visited\n",
        "  visited=dfs(graph1,'B',[])\n",
        "  print(visited)\n",
        "\n",
        "\n",
        "\n",
        "\n",
        "\n",
        "\n"
      ],
      "metadata": {
        "id": "V97JxauQ038t"
      },
      "execution_count": null,
      "outputs": []
    },
    {
      "cell_type": "code",
      "source": [
        "from copy import deepcopy\n",
        "import numpy as np\n",
        "import time\n",
        "def bestsolution(state):\n",
        "  bestol=np.array([],int).reshape(-1,9)\n",
        "  count=len(state)-1\n",
        "  while count!=-1:\n",
        "      bestol=np.insert(bestol,0,state[count]['puzzle'],0)\n",
        "      count=(state[count]['parent'])\n",
        "  return bestol.reshape(-1,3,3)\n",
        "  print(bestsol)\n",
        "  def all(checkarray):\n",
        "    set=[]\n",
        "    for it in set:\n",
        "      for checkarray in it:\n",
        "        return 1\n",
        "    else:\n",
        "      return 0\n",
        "  def mispaled_tiles(puzzle,goal):\n",
        "     mscost=np.sum(puzzle!=goal)-1\n",
        "     return mscost if mscost> 0 else 0\n",
        "  def coordinates(puzzle):\n",
        "    pos=np.array(range(9))\n",
        "    for p,q in enumerate(puzzle):\n",
        "      pos[q]=p\n",
        "    return pos\n",
        "  def evaluvation_misplaced(puzzle,goal):#This function is now defined outside of bestsolution\n",
        "    steps=np.array([('up',[0,1,2],-3),('down',[6,7,8],3),('left',[0,3,6],-1),('rigth',[2,5,8],1)],\n",
        "                   dtype=[('move',str,1),('position',list),('head',int)])\n",
        "    dstate=[('puzzle',list),('parent',int),('gn',int),('hn',int)]\n",
        "    costg=coordinates(goal)\n",
        "    parent=-1\n",
        "    gn=0\n",
        "    hn=mispaled_tiles(coordinates(puzzle),costg)\n",
        "    state=np.array([(puzzle,parent,gn,hn)],dstate)\n",
        "    dtpriority=[('position',int),('fn',int)]\n",
        "    priority=np.array([(0,hn)],dtpriority)\n",
        "    while 1:\n",
        "      priority=np.sort(priority,kind='mergesort',order=['fn','position'])\n",
        "      position,fn=priority[0]\n",
        "      Priority=np.delete(priority,0,0)\n",
        "      puzzle,parent,gn,hn=state[position]\n",
        "      puzzle=np.array(puzzle)\n",
        "      blank=int(np.where(puzzle==0)[0])\n",
        "      gn=gn+1\n",
        "      cn=1\n",
        "      start_time=time.time()\n",
        "      for s in steps:\n",
        "        c=c+1\n",
        "        if blank not in s['position']:\n",
        "          openstates=deepcopy(puzzle)\n",
        "          openstates[blank],openstates[blank+s['head']]=openstates[blank+s['head']],openstates[blank]\n",
        "\n",
        "        if~(np.all(list(state['puzzle'])==openstates,1)).any():\n",
        "          end_time=time.time()\n",
        "          if((end_time-start_time)>2):\n",
        "            print(\"The 8 puzzle is unsolvable \\n\")\n",
        "            break\n",
        "          hn=misplaced_tiles(coordinates(openstates),costg)\n",
        "          q=np.array([(openstates,position,hn,hn)],dstate)\n",
        "          state=np.append(state,q,0)\n",
        "          fn=gn+hn\n",
        "          q=np.array([(len(state)-1,fn)],dtpriority)\n",
        "          priority=np.append(priority,q,0)\n",
        "          if np.array_equal(openstates,goal):\n",
        "            print('The 8 puzzle is solved\\n')\n",
        "            return state,len(priority)\n",
        "\n",
        "puzzle=[]\n",
        "puzzle.append(2)\n",
        "puzzle.append(8)\n",
        "puzzle.append(3)\n",
        "puzzle.append(1)\n",
        "puzzle.append(6)\n",
        "puzzle.append(4)\n",
        "puzzle.append(7)\n",
        "puzzle.append(0)\n",
        "puzzle.append(5)\n",
        "goal=[]\n",
        "goal.append(1)\n",
        "goal.append(2)\n",
        "goal.append(3)\n",
        "goal.append(8)\n",
        "goal.append(0)\n",
        "goal.append(4)\n",
        "goal.append(7)\n",
        "goal.append(6)\n",
        "goal.append(5)\n",
        "\n",
        "\n",
        "\n",
        "\n",
        "state,visited=evaluvation_misplaced(puzzle,goal)#Fixed typo in function name\n",
        "print(state)\n",
        "print(visited)\n",
        "bestpath=bestsolution(state)\n",
        "print(str(bestpath).repalce('[','').replace(']',''))\n",
        "totalmoves=len(bestpath)-1\n",
        "print('\\n steps to reach goal:',totalmoves)\n",
        "visit=len(state)-visited\n",
        "print('Total nodes visited:',visit,\"\\n\")\n",
        "\n",
        "\n",
        "\n",
        "\n",
        "\n",
        "\n"
      ],
      "metadata": {
        "id": "xGpkJKkMn-EG",
        "colab": {
          "base_uri": "https://localhost:8080/",
          "height": 219
        },
        "outputId": "64925f11-b350-4485-b580-edebed9d59d0"
      },
      "execution_count": null,
      "outputs": [
        {
          "output_type": "error",
          "ename": "NameError",
          "evalue": "name 'evaluvation_misplaced' is not defined",
          "traceback": [
            "\u001b[0;31m---------------------------------------------------------------------------\u001b[0m",
            "\u001b[0;31mNameError\u001b[0m                                 Traceback (most recent call last)",
            "\u001b[0;32m<ipython-input-14-e88f61e0c171>\u001b[0m in \u001b[0;36m<cell line: 89>\u001b[0;34m()\u001b[0m\n\u001b[1;32m     87\u001b[0m \u001b[0;34m\u001b[0m\u001b[0m\n\u001b[1;32m     88\u001b[0m \u001b[0;34m\u001b[0m\u001b[0m\n\u001b[0;32m---> 89\u001b[0;31m \u001b[0mstate\u001b[0m\u001b[0;34m,\u001b[0m\u001b[0mvisited\u001b[0m\u001b[0;34m=\u001b[0m\u001b[0mevaluvation_misplaced\u001b[0m\u001b[0;34m(\u001b[0m\u001b[0mpuzzle\u001b[0m\u001b[0;34m,\u001b[0m\u001b[0mgoal\u001b[0m\u001b[0;34m)\u001b[0m\u001b[0;31m#Fixed typo in function name\u001b[0m\u001b[0;34m\u001b[0m\u001b[0;34m\u001b[0m\u001b[0m\n\u001b[0m\u001b[1;32m     90\u001b[0m \u001b[0mprint\u001b[0m\u001b[0;34m(\u001b[0m\u001b[0mstate\u001b[0m\u001b[0;34m)\u001b[0m\u001b[0;34m\u001b[0m\u001b[0;34m\u001b[0m\u001b[0m\n\u001b[1;32m     91\u001b[0m \u001b[0mprint\u001b[0m\u001b[0;34m(\u001b[0m\u001b[0mvisited\u001b[0m\u001b[0;34m)\u001b[0m\u001b[0;34m\u001b[0m\u001b[0;34m\u001b[0m\u001b[0m\n",
            "\u001b[0;31mNameError\u001b[0m: name 'evaluvation_misplaced' is not defined"
          ]
        }
      ]
    }
  ]
}